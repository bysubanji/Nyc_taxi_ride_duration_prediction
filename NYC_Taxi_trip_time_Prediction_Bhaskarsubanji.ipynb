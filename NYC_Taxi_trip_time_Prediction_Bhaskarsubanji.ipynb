{
  "nbformat": 4,
  "nbformat_minor": 0,
  "metadata": {
    "colab": {
      "name": " NYC Taxi trip time Prediction_Bhaskarsubanji.ipynb",
      "provenance": [],
      "collapsed_sections": [],
      "authorship_tag": "ABX9TyPy2kYIdgf5347ZFcC7wMES",
      "include_colab_link": true
    },
    "kernelspec": {
      "name": "python3",
      "display_name": "Python 3"
    },
    "language_info": {
      "name": "python"
    }
  },
  "cells": [
    {
      "cell_type": "markdown",
      "metadata": {
        "id": "view-in-github",
        "colab_type": "text"
      },
      "source": [
        "<a href=\"https://colab.research.google.com/github/bysubanji/Nyc_taxi_ride_duration_prediction/blob/main/NYC_Taxi_trip_time_Prediction_Bhaskarsubanji.ipynb\" target=\"_parent\"><img src=\"https://colab.research.google.com/assets/colab-badge.svg\" alt=\"Open In Colab\"/></a>"
      ]
    },
    {
      "cell_type": "markdown",
      "source": [
        "# Project Title : NYC Taxi trip time Prediction : Predicting total ride duration of taxi trips in New York City"
      ],
      "metadata": {
        "id": "1ZDPXKoo4EC6"
      }
    },
    {
      "cell_type": "markdown",
      "source": [
        "Problem Description\n",
        "Your task is to build a model that predicts the total ride duration of taxi trips in New York City. Your primary dataset is one released by the NYC Taxi and Limousine Commission, which includes pickup time, geo-coordinates, number of passengers, and several other variables.\n"
      ],
      "metadata": {
        "id": "YZa9YcSo4u54"
      }
    },
    {
      "cell_type": "markdown",
      "source": [
        "## <b> Data Description </b>\n",
        "\n",
        "### The dataset is based on the 2016 NYC Yellow Cab trip record data made available in Big Query on Google Cloud Platform. The data was originally published by the NYC Taxi and Limousine Commission (TLC). The data was sampled and cleaned for the purposes of this project. Based on individual trip attributes, you should predict the duration of each trip in the test set.\n",
        "\n",
        "### <b>NYC Taxi Data.csv</b> - The Dataset contains 1458644 trip records\n",
        "\n",
        "\n",
        "### Data fields\n",
        "* #### id - A unique identifier for each trip.\n",
        "* #### vendor_id - A code indicating the provider associated with the trip record.\n",
        "* #### pickup_datetime - Date and time when the meter was engaged.\n",
        "* #### dropoff_datetime - Date and time when the meter was disengaged.\n",
        "* #### passenger_count - The number of passengers in the vehicle. (driver entered value)\n",
        "* #### pickup_longitude - The longitude where the meter was engaged.\n",
        "* #### pickup_latitude - The latitude where the meter was engaged.\n",
        "* #### dropoff_longitude - The longitude where the meter was disengaged.\n",
        "* #### dropoff_latitude - The latitude where the meter was disengaged.\n",
        "* #### store_and_fwd_flag - This flag indicates whether the trip record was held in vehicle memory before sending to the vendor because the vehicle did not have a connection to the server - Y=store and forward; N=not a store and forward trip.\n",
        "* #### trip_duration - Duration of the trip in seconds. (Target variable)"
      ],
      "metadata": {
        "id": "LgaPBnNc4w8-"
      }
    }
  ]
}